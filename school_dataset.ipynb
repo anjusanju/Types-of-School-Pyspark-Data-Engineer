{
  "nbformat": 4,
  "nbformat_minor": 0,
  "metadata": {
    "colab": {
      "provenance": []
    },
    "kernelspec": {
      "name": "python3",
      "display_name": "Python 3"
    },
    "language_info": {
      "name": "python"
    }
  },
  "cells": [
    {
      "cell_type": "code",
      "execution_count": 1,
      "metadata": {
        "colab": {
          "base_uri": "https://localhost:8080/"
        },
        "id": "jhC60ps_pEuh",
        "outputId": "20ba3835-e6f5-4f99-d17f-28e68e4fea85"
      },
      "outputs": [
        {
          "output_type": "stream",
          "name": "stdout",
          "text": [
            "Mounted at /content/drive\n"
          ]
        }
      ],
      "source": [
        "from google.colab import drive\n",
        "drive.mount('/content/drive')"
      ]
    },
    {
      "cell_type": "code",
      "source": [
        "import pyspark\n",
        "from pyspark.sql import SparkSession\n",
        "from pyspark.sql.functions import col, sum, desc, rank, when\n",
        "from pyspark.sql.window import Window"
      ],
      "metadata": {
        "id": "3UDZCmkRpQuX"
      },
      "execution_count": 2,
      "outputs": []
    },
    {
      "cell_type": "code",
      "source": [
        "# 1. Initialize a Spark Session\n",
        "spark = SparkSession.builder.appName(\"SchoolDashboard\").getOrCreate()"
      ],
      "metadata": {
        "id": "ogwWsvfXpWof"
      },
      "execution_count": 3,
      "outputs": []
    },
    {
      "cell_type": "code",
      "source": [
        "df= spark.read.csv(\"/content/drive/MyDrive/Pyspark/Graincrop interview practice/dv402-SchoolLocations2025.csv\", header=True, inferSchema=True)"
      ],
      "metadata": {
        "id": "H_7JjvVQpbjA"
      },
      "execution_count": 4,
      "outputs": []
    },
    {
      "cell_type": "code",
      "source": [
        "df.printSchema()\n"
      ],
      "metadata": {
        "colab": {
          "base_uri": "https://localhost:8080/"
        },
        "id": "iR1qYHe8pwRp",
        "outputId": "20f2a2ca-80d5-401e-e4d6-80fa9f0cc1b0"
      },
      "execution_count": 5,
      "outputs": [
        {
          "output_type": "stream",
          "name": "stdout",
          "text": [
            "root\n",
            " |-- Education_Sector: string (nullable = true)\n",
            " |-- Entity_Type: integer (nullable = true)\n",
            " |-- School_No: integer (nullable = true)\n",
            " |-- School_Name: string (nullable = true)\n",
            " |-- School_Type: string (nullable = true)\n",
            " |-- School_Status: string (nullable = true)\n",
            " |-- Address_Line_1: string (nullable = true)\n",
            " |-- Address_Line_2: string (nullable = true)\n",
            " |-- Address_Town: string (nullable = true)\n",
            " |-- Address_State: string (nullable = true)\n",
            " |-- Address_Postcode: integer (nullable = true)\n",
            " |-- Postal_Address_Line_1: string (nullable = true)\n",
            " |-- Postal_Address_Line_2: string (nullable = true)\n",
            " |-- Postal_Town: string (nullable = true)\n",
            " |-- Postal_State: string (nullable = true)\n",
            " |-- Postal_Postcode: integer (nullable = true)\n",
            " |-- Full_Phone_No: string (nullable = true)\n",
            " |-- Region: string (nullable = true)\n",
            " |-- Area: string (nullable = true)\n",
            " |-- LGA_ID: integer (nullable = true)\n",
            " |-- LGA_Name: string (nullable = true)\n",
            " |-- LGA_TYPE: string (nullable = true)\n",
            " |-- X: double (nullable = true)\n",
            " |-- Y: double (nullable = true)\n",
            "\n"
          ]
        }
      ]
    },
    {
      "cell_type": "code",
      "source": [
        "\n",
        "df.show(5)"
      ],
      "metadata": {
        "colab": {
          "base_uri": "https://localhost:8080/"
        },
        "id": "O78b1nY-p4Qx",
        "outputId": "5a9fb25e-13ef-46ca-833d-efbc4247a3ff"
      },
      "execution_count": 6,
      "outputs": [
        {
          "output_type": "stream",
          "name": "stdout",
          "text": [
            "+----------------+-----------+---------+--------------------+-----------+-------------+--------------------+--------------+--------------+-------------+----------------+---------------------+---------------------+--------------+------------+---------------+-------------+--------------------+--------------------+------+----------------+---------+----------+----------+\n",
            "|Education_Sector|Entity_Type|School_No|         School_Name|School_Type|School_Status|      Address_Line_1|Address_Line_2|  Address_Town|Address_State|Address_Postcode|Postal_Address_Line_1|Postal_Address_Line_2|   Postal_Town|Postal_State|Postal_Postcode|Full_Phone_No|              Region|                Area|LGA_ID|        LGA_Name| LGA_TYPE|         X|         Y|\n",
            "+----------------+-----------+---------+--------------------+-----------+-------------+--------------------+--------------+--------------+-------------+----------------+---------------------+---------------------+--------------+------------+---------------+-------------+--------------------+--------------------+------+----------------+---------+----------+----------+\n",
            "|        Catholic|          2|       20|      Parade College|  Secondary|            O|    1436 Plenty Road|          NULL|      BUNDOORA|          VIC|            3083|     1436 Plenty Road|                 NULL|      BUNDOORA|         VIC|           3083| 03 9468 3300|NORTH-WESTERN VIC...|North Eastern Mel...|    66|     Banyule (C)|    Metro|145.066978|-37.690178|\n",
            "|        Catholic|          2|       25|Simonds Catholic ...|  Secondary|            O| 273 Victoria Street|          NULL|WEST MELBOURNE|          VIC|            3003|  273 Victoria Street|                 NULL|WEST MELBOURNE|         VIC|           3003| 03 9321 9200|SOUTH-WESTERN VIC...|   Western Melbourne|   460|   Melbourne (C)|    Metro|144.952883|-37.805971|\n",
            "|        Catholic|          2|       26|St Mary’s College...|  Secondary|            O|  11 Westbury Street|          NULL| ST KILDA EAST|          VIC|            3183|           PO Box 258|                 NULL|      ST KILDA|         VIC|           3182| 03 9529 6611|SOUTH-EASTERN VIC...|   Bayside Peninsula|   590|Port Phillip (C)|    Metro|144.997001|-37.859365|\n",
            "|        Catholic|          2|       28|St Patrick's Coll...|  Secondary|            O|   1431 Sturt Street|          NULL|      BALLARAT|          VIC|            3350|        Locked Bag 31|                 NULL|      BALLARAT|         VIC|           3350| 03 5331 1688|SOUTH-WESTERN VIC...|   Central Highlands|    57|    Ballarat (C)|Non Metro|143.831558|-37.559711|\n",
            "|        Catholic|          2|       29| St Patrick's School|    Primary|            O|119 Drummond Stre...|          NULL|      BALLARAT|          VIC|            3350|           PO Box 82W|                 NULL| BALLARAT WEST|         VIC|           3350| 03 5332 7680|SOUTH-WESTERN VIC...|   Central Highlands|    57|    Ballarat (C)|Non Metro|143.847147|-37.564397|\n",
            "+----------------+-----------+---------+--------------------+-----------+-------------+--------------------+--------------+--------------+-------------+----------------+---------------------+---------------------+--------------+------------+---------------+-------------+--------------------+--------------------+------+----------------+---------+----------+----------+\n",
            "only showing top 5 rows\n",
            "\n"
          ]
        }
      ]
    },
    {
      "cell_type": "code",
      "source": [
        " #Drop duplicates\n",
        "df_spark = df.dropDuplicates()\n"
      ],
      "metadata": {
        "id": "yGaY6OmPp7er"
      },
      "execution_count": 7,
      "outputs": []
    },
    {
      "cell_type": "code",
      "source": [
        "from pyspark.sql import functions as F\n",
        "# Count missing values in each column\n",
        "missing = df_spark.select([F.count(F.when(F.col(c).isNull(), c)).alias(c) for c in df_spark.columns])\n",
        "missing.show()"
      ],
      "metadata": {
        "colab": {
          "base_uri": "https://localhost:8080/"
        },
        "id": "WFV1vQy4qBap",
        "outputId": "f9887412-2ee4-4d50-d610-f21225bd4c6b"
      },
      "execution_count": 9,
      "outputs": [
        {
          "output_type": "stream",
          "name": "stdout",
          "text": [
            "+----------------+-----------+---------+-----------+-----------+-------------+--------------+--------------+------------+-------------+----------------+---------------------+---------------------+-----------+------------+---------------+-------------+------+----+------+--------+--------+---+---+\n",
            "|Education_Sector|Entity_Type|School_No|School_Name|School_Type|School_Status|Address_Line_1|Address_Line_2|Address_Town|Address_State|Address_Postcode|Postal_Address_Line_1|Postal_Address_Line_2|Postal_Town|Postal_State|Postal_Postcode|Full_Phone_No|Region|Area|LGA_ID|LGA_Name|LGA_TYPE|  X|  Y|\n",
            "+----------------+-----------+---------+-----------+-----------+-------------+--------------+--------------+------------+-------------+----------------+---------------------+---------------------+-----------+------------+---------------+-------------+------+----+------+--------+--------+---+---+\n",
            "|               0|          0|        0|          0|          0|            0|             0|          2289|           0|            0|               0|                    0|                 2285|          0|           0|              0|            1|     0|   0|     0|       0|       0|  0|  0|\n",
            "+----------------+-----------+---------+-----------+-----------+-------------+--------------+--------------+------------+-------------+----------------+---------------------+---------------------+-----------+------------+---------------+-------------+------+----+------+--------+--------+---+---+\n",
            "\n"
          ]
        }
      ]
    },
    {
      "cell_type": "code",
      "source": [
        "# Total schools\n",
        "total_schools = df_spark.select(F.countDistinct(\"School_No\")).collect()[0][0]"
      ],
      "metadata": {
        "id": "5LjM5lNzqKg3"
      },
      "execution_count": 10,
      "outputs": []
    },
    {
      "cell_type": "code",
      "source": [
        "print(\"Total Schools:\", total_schools)"
      ],
      "metadata": {
        "colab": {
          "base_uri": "https://localhost:8080/"
        },
        "id": "CGUJTwD8qRDk",
        "outputId": "4992bf80-47c9-4299-aa80-f72cc5458b87"
      },
      "execution_count": 12,
      "outputs": [
        {
          "output_type": "stream",
          "name": "stdout",
          "text": [
            "Total Schools: 2162\n"
          ]
        }
      ]
    },
    {
      "cell_type": "code",
      "source": [
        "# Schools by Sector\n",
        "sector_counts = (df_spark.groupBy(\"Education_Sector\")\n",
        "    .agg(F.countDistinct(\"School_No\").alias(\"School_Count\"))\n",
        "    .orderBy(F.desc(\"School_Count\")))"
      ],
      "metadata": {
        "id": "ilmgXqm6qe91"
      },
      "execution_count": 13,
      "outputs": []
    },
    {
      "cell_type": "code",
      "source": [
        "sector_counts.show()"
      ],
      "metadata": {
        "colab": {
          "base_uri": "https://localhost:8080/"
        },
        "id": "VfpxtQT9qjUP",
        "outputId": "9857e98b-678e-41e5-89e0-79a873c6068b"
      },
      "execution_count": 14,
      "outputs": [
        {
          "output_type": "stream",
          "name": "stdout",
          "text": [
            "+----------------+------------+\n",
            "|Education_Sector|School_Count|\n",
            "+----------------+------------+\n",
            "|      Government|        1575|\n",
            "|        Catholic|         493|\n",
            "|     Independent|         233|\n",
            "+----------------+------------+\n",
            "\n"
          ]
        }
      ]
    },
    {
      "cell_type": "code",
      "source": [
        "\n",
        "# Schools by Type\n",
        "type_counts = (df_spark.groupBy(\"School_Type\")\n",
        "    .agg(F.countDistinct(\"School_No\").alias(\"School_Count\"))\n",
        "    .orderBy(F.desc(\"School_Count\")))"
      ],
      "metadata": {
        "id": "X_GQKPArqlww"
      },
      "execution_count": 15,
      "outputs": []
    },
    {
      "cell_type": "code",
      "source": [
        "type_counts.show()"
      ],
      "metadata": {
        "colab": {
          "base_uri": "https://localhost:8080/"
        },
        "id": "uWef4VSPqr_H",
        "outputId": "bacdec16-dfd6-47fd-e0be-82fe78102757"
      },
      "execution_count": 17,
      "outputs": [
        {
          "output_type": "stream",
          "name": "stdout",
          "text": [
            "+-----------+------------+\n",
            "|School_Type|School_Count|\n",
            "+-----------+------------+\n",
            "|    Primary|        1491|\n",
            "|  Secondary|         360|\n",
            "|    Pri/Sec|         250|\n",
            "|    Special|         117|\n",
            "|   Language|           5|\n",
            "+-----------+------------+\n",
            "\n"
          ]
        }
      ]
    },
    {
      "cell_type": "code",
      "source": [
        "\n",
        "# Schools by Region\n",
        "region_counts = (df_spark.groupBy(\"Region\")\n",
        "    .agg(F.countDistinct(\"School_No\").alias(\"School_Count\"))\n",
        "    .orderBy(F.desc(\"School_Count\")))"
      ],
      "metadata": {
        "id": "984GpeJUqo3a"
      },
      "execution_count": 16,
      "outputs": []
    },
    {
      "cell_type": "code",
      "source": [
        "region_counts.show()"
      ],
      "metadata": {
        "colab": {
          "base_uri": "https://localhost:8080/"
        },
        "id": "yL_oF6cEqrBe",
        "outputId": "782a64fc-df11-4e37-9f6f-c35b47bcfc28"
      },
      "execution_count": 18,
      "outputs": [
        {
          "output_type": "stream",
          "name": "stdout",
          "text": [
            "+--------------------+------------+\n",
            "|              Region|School_Count|\n",
            "+--------------------+------------+\n",
            "|SOUTH-WESTERN VIC...|         631|\n",
            "|SOUTH-EASTERN VIC...|         592|\n",
            "|NORTH-EASTERN VIC...|         535|\n",
            "|NORTH-WESTERN VIC...|         506|\n",
            "+--------------------+------------+\n",
            "\n"
          ]
        }
      ]
    },
    {
      "cell_type": "code",
      "source": [
        "summary = {\n",
        "    \"Total_Schools\": total_schools,\n",
        "    \"Top_Sector\": sector_counts.first().asDict(),\n",
        "    \"Top_Type\": type_counts.first().asDict()\n",
        "}\n",
        "summary\n"
      ],
      "metadata": {
        "colab": {
          "base_uri": "https://localhost:8080/"
        },
        "id": "QqYEB3CqqzTt",
        "outputId": "c5429dc3-f7ec-4032-b7fe-45806c9b8458"
      },
      "execution_count": 19,
      "outputs": [
        {
          "output_type": "execute_result",
          "data": {
            "text/plain": [
              "{'Total_Schools': 2162,\n",
              " 'Top_Sector': {'Education_Sector': 'Government', 'School_Count': 1575},\n",
              " 'Top_Type': {'School_Type': 'Primary', 'School_Count': 1491}}"
            ]
          },
          "metadata": {},
          "execution_count": 19
        }
      ]
    },
    {
      "cell_type": "code",
      "source": [
        "output_path = \"/content/drive/MyDrive/schools_clean.csv\"\n",
        "\n",
        "(df_spark\n",
        "   .coalesce(1)  # ensure a single CSV file instead of many parts\n",
        "   .write.mode(\"overwrite\")\n",
        "   .option(\"header\", True)\n",
        "   .csv(output_path))\n"
      ],
      "metadata": {
        "id": "k-VWZf9uq3Po"
      },
      "execution_count": 20,
      "outputs": []
    },
    {
      "cell_type": "code",
      "source": [],
      "metadata": {
        "id": "yt7EP19OrX0U"
      },
      "execution_count": null,
      "outputs": []
    },
    {
      "cell_type": "markdown",
      "source": [
        "converting spark output to single csv file\n"
      ],
      "metadata": {
        "id": "rxYze1PVr0xN"
      }
    },
    {
      "cell_type": "code",
      "source": [
        "import shutil, glob\n",
        "\n",
        "# Path Spark wrote to (folder)\n",
        "temp_path = \"/content/drive/MyDrive/schools_clean.csv\"\n",
        "\n",
        "# Find the actual part file\n",
        "part_file = glob.glob(temp_path + \"/part-*.csv\")[0]\n",
        "\n",
        "# Copy it to a clean CSV file\n",
        "final_path = \"/content/drive/MyDrive/schools_clean_final.csv\"\n",
        "shutil.copy(part_file, final_path)\n",
        "\n",
        "print(\"Final single CSV saved at:\", final_path)\n"
      ],
      "metadata": {
        "colab": {
          "base_uri": "https://localhost:8080/"
        },
        "id": "H3FMN4fGqVZX",
        "outputId": "3b482e9d-fc8c-4979-8f63-3ca26924b01a"
      },
      "execution_count": 21,
      "outputs": [
        {
          "output_type": "stream",
          "name": "stdout",
          "text": [
            "Final single CSV saved at: /content/drive/MyDrive/schools_clean_final.csv\n"
          ]
        }
      ]
    },
    {
      "cell_type": "code",
      "source": [],
      "metadata": {
        "id": "ke7oXnj2r9iM"
      },
      "execution_count": null,
      "outputs": []
    },
    {
      "cell_type": "code",
      "source": [],
      "metadata": {
        "id": "8TbEFj5AqDvT"
      },
      "execution_count": null,
      "outputs": []
    }
  ]
}